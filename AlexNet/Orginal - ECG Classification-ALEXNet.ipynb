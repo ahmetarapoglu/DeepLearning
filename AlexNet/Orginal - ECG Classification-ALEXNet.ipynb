{
 "cells": [
  {
   "cell_type": "code",
   "execution_count": null,
   "id": "south-insurance",
   "metadata": {},
   "outputs": [],
   "source": [
    "import numpy as np\n",
    "import pandas as pd\n",
    "import seaborn as sns\n",
    "import matplotlib.pyplot as plt\n",
    "from sklearn.metrics import classification_report\n",
    "from sklearn.model_selection import train_test_split\n",
    "from sklearn.metrics import f1_score\n",
    "from sklearn.metrics import confusion_matrix\n",
    "from keras.utils.np_utils import to_categorical\n",
    "from sklearn.utils import class_weight"
   ]
  },
  {
   "cell_type": "code",
   "execution_count": null,
   "id": "sought-upper",
   "metadata": {},
   "outputs": [],
   "source": [
    "train = pd.read_csv(\"train.csv\", header = None)\n",
    "test = pd.read_csv(\"test.csv\", header = None)"
   ]
  },
  {
   "cell_type": "code",
   "execution_count": null,
   "id": "undefined-anxiety",
   "metadata": {},
   "outputs": [],
   "source": [
    "print(\"dataset detail için :\\n\")\n",
    "print(\" test dataset\")\n",
    "print(train.info())\n",
    "print(\"******************\\n\")\n",
    "print(\" train dataset\")\n",
    "print(test.info())"
   ]
  },
  {
   "cell_type": "code",
   "execution_count": null,
   "id": "unlike-programmer",
   "metadata": {},
   "outputs": [],
   "source": [
    "train"
   ]
  },
  {
   "cell_type": "code",
   "execution_count": null,
   "id": "impossible-china",
   "metadata": {},
   "outputs": [],
   "source": [
    "train.shape"
   ]
  },
  {
   "cell_type": "code",
   "execution_count": null,
   "id": "undefined-storm",
   "metadata": {},
   "outputs": [],
   "source": [
    "train[187].value_counts()"
   ]
  },
  {
   "cell_type": "code",
   "execution_count": null,
   "id": "behavioral-crime",
   "metadata": {},
   "outputs": [],
   "source": [
    "sns.catplot(x = 187, kind = 'count', data = train)\n",
    "\n",
    "plt.xlabel(\"Siniflar\")\n",
    "plt.ylabel(\"Örnek sayısı\")\n",
    "plt.title(\"her sınıf için örnek sayıs\")"
   ]
  },
  {
   "cell_type": "code",
   "execution_count": null,
   "id": "female-election",
   "metadata": {},
   "outputs": [],
   "source": [
    "test"
   ]
  },
  {
   "cell_type": "code",
   "execution_count": null,
   "id": "measured-origin",
   "metadata": {},
   "outputs": [],
   "source": [
    "test.shape"
   ]
  },
  {
   "cell_type": "code",
   "execution_count": null,
   "id": "technical-kansas",
   "metadata": {},
   "outputs": [],
   "source": [
    "test[187].value_counts()"
   ]
  },
  {
   "cell_type": "code",
   "execution_count": null,
   "id": "induced-remains",
   "metadata": {},
   "outputs": [],
   "source": [
    "sns.catplot(x = 187, kind = 'count', data = test)\n",
    "\n",
    "plt.xlabel(\"Siniflar\")\n",
    "plt.ylabel(\"Örnek sayısı\")\n",
    "plt.title(\"her sınıf için örnek sayıs\")"
   ]
  },
  {
   "cell_type": "code",
   "execution_count": null,
   "id": "operational-temple",
   "metadata": {},
   "outputs": [],
   "source": [
    "train[187] = train[187].astype('int')"
   ]
  },
  {
   "cell_type": "code",
   "execution_count": null,
   "id": "brilliant-probe",
   "metadata": {},
   "outputs": [],
   "source": [
    "test[187] = test[187].astype('int')"
   ]
  },
  {
   "cell_type": "code",
   "execution_count": null,
   "id": "fitting-interval",
   "metadata": {},
   "outputs": [],
   "source": [
    "frames = [train, test]\n",
    "\n",
    "ptb_data = pd.concat(frames)"
   ]
  },
  {
   "cell_type": "code",
   "execution_count": null,
   "id": "ahead-triangle",
   "metadata": {},
   "outputs": [],
   "source": [
    "print(ptb_data.info())"
   ]
  },
  {
   "cell_type": "code",
   "execution_count": null,
   "id": "northern-whole",
   "metadata": {},
   "outputs": [],
   "source": [
    "ptb_data"
   ]
  },
  {
   "cell_type": "code",
   "execution_count": null,
   "id": "approximate-conversion",
   "metadata": {},
   "outputs": [],
   "source": [
    "train_ptb.iloc[:, 187].unique()"
   ]
  },
  {
   "cell_type": "code",
   "execution_count": null,
   "id": "legendary-conducting",
   "metadata": {},
   "outputs": [],
   "source": [
    "ptb_data.shape"
   ]
  },
  {
   "cell_type": "code",
   "execution_count": null,
   "id": "vocational-convert",
   "metadata": {},
   "outputs": [],
   "source": [
    "ptb_data[187].value_counts()"
   ]
  },
  {
   "cell_type": "code",
   "execution_count": null,
   "id": "incoming-statistics",
   "metadata": {},
   "outputs": [],
   "source": [
    "sns.catplot(x = 187, kind = 'count', data = ptb_data)\n",
    "\n",
    "plt.xlabel(\"Siniflar\")\n",
    "plt.ylabel(\"Örnek sayısı\")\n",
    "plt.title(\"her sınıf için örnek sayıs\")"
   ]
  },
  {
   "cell_type": "code",
   "execution_count": null,
   "id": "logical-cleaner",
   "metadata": {},
   "outputs": [],
   "source": [
    "per_class = ptb_data[187].value_counts()\n",
    "plt.figure(figsize=(20,10))\n",
    "my_circle=plt.Circle( (0,0), 0.8, color='white')\n",
    "plt.pie(per_class, labels=['Normal Beat','Unknown Beats','Ventricular Ectopic Beats','Supraventricular Ectopic Beats','Fusion Beats'], colors=['tab:green','tab:orange','tab:purple','tab:blue','tab:red'],autopct='%1.1f%%')\n",
    "p=plt.gcf()\n",
    "p.gca().add_artist(my_circle)\n",
    "plt.show()"
   ]
  },
  {
   "cell_type": "code",
   "execution_count": null,
   "id": "necessary-malawi",
   "metadata": {},
   "outputs": [],
   "source": [
    "msk = np.random.rand(len(ptb_data)) < 0.8\n",
    "\n",
    "train_ptb = ptb_data[msk]\n",
    "\n",
    "test_ptb = ptb_data[~msk]"
   ]
  },
  {
   "cell_type": "code",
   "execution_count": null,
   "id": "powered-maine",
   "metadata": {},
   "outputs": [],
   "source": [
    "train_ptb"
   ]
  },
  {
   "cell_type": "code",
   "execution_count": null,
   "id": "crude-tuition",
   "metadata": {},
   "outputs": [],
   "source": [
    "train_ptb.shape"
   ]
  },
  {
   "cell_type": "code",
   "execution_count": null,
   "id": "bibliographic-overall",
   "metadata": {},
   "outputs": [],
   "source": [
    "train_ptb[187].value_counts()"
   ]
  },
  {
   "cell_type": "code",
   "execution_count": null,
   "id": "searching-classic",
   "metadata": {},
   "outputs": [],
   "source": [
    "sns.catplot(x = 187, kind = 'count', data = train_ptb)\n",
    "\n",
    "plt.xlabel(\"Siniflar\")\n",
    "plt.ylabel(\"Örnek sayısı\")\n",
    "plt.title(\"her sınıf için örnek sayıs\")"
   ]
  },
  {
   "cell_type": "code",
   "execution_count": null,
   "id": "environmental-mounting",
   "metadata": {},
   "outputs": [],
   "source": [
    "test_ptb"
   ]
  },
  {
   "cell_type": "code",
   "execution_count": null,
   "id": "geological-commerce",
   "metadata": {},
   "outputs": [],
   "source": [
    "test_ptb.shape"
   ]
  },
  {
   "cell_type": "code",
   "execution_count": null,
   "id": "proved-router",
   "metadata": {},
   "outputs": [],
   "source": [
    "test_ptb[187].value_counts()"
   ]
  },
  {
   "cell_type": "code",
   "execution_count": null,
   "id": "tamil-trout",
   "metadata": {},
   "outputs": [],
   "source": [
    "sns.catplot(x = 187, kind = 'count', data = test_ptb)\n",
    "\n",
    "plt.xlabel(\"Siniflar\")\n",
    "plt.ylabel(\"Örnek sayısı\")\n",
    "plt.title(\"her sınıf için örnek sayıs\")"
   ]
  },
  {
   "cell_type": "code",
   "execution_count": null,
   "id": "heard-salem",
   "metadata": {},
   "outputs": [],
   "source": [
    "per_class = train_ptb[187].value_counts()\n",
    "plt.figure(figsize=(20,10))\n",
    "my_circle=plt.Circle( (0,0), 0.8, color='white')\n",
    "plt.pie(per_class, labels=['Normal Beat','Unknown Beats','Ventricular Ectopic Beats','Supraventricular Ectopic Beats','Fusion Beats'], colors=['tab:green','tab:orange','tab:purple','tab:blue','tab:red'],autopct='%1.1f%%')\n",
    "p=plt.gcf()\n",
    "p.gca().add_artist(my_circle)\n",
    "plt.show()"
   ]
  },
  {
   "cell_type": "code",
   "execution_count": null,
   "id": "earned-revolution",
   "metadata": {},
   "outputs": [],
   "source": [
    "sns.set_style('whitegrid')\n",
    "plt.figure(figsize = (20,8))\n",
    "plt.plot(train_ptb.iloc[500, 0:187], color = 'red')\n",
    "plt.title(\"ECG Normal  Beats\", fontsize = 16)\n",
    "plt.show()"
   ]
  },
  {
   "cell_type": "code",
   "execution_count": null,
   "id": "impressed-benchmark",
   "metadata": {},
   "outputs": [],
   "source": [
    "from sklearn.utils import resample\n",
    "df_1=train_ptb[train_ptb[187]==1]\n",
    "df_2=train_ptb[train_ptb[187]==2]\n",
    "df_3=train_ptb[train_ptb[187]==3]\n",
    "df_4=train_ptb[train_ptb[187]==4]\n",
    "df_0=(train_ptb[train_ptb[187]==0]).sample(n=20000,random_state=42)"
   ]
  },
  {
   "cell_type": "code",
   "execution_count": null,
   "id": "binding-badge",
   "metadata": {},
   "outputs": [],
   "source": [
    "sns.set_style(\"whitegrid\")\n",
    "plt.figure(figsize=(20,8))\n",
    "plt.plot(df_0.iloc[0, 0:187], color = 'red', label = 'Normal Heart Beats')\n",
    "plt.plot(df_3.iloc[0, 0:187], color = 'blue', label = 'Supraventricular ectopic beats')\n",
    "plt.title(\"ECG Normal ve Supraventricular Ectopic Beats\", fontsize = 16)\n",
    "plt.xlabel(\"Zaman (ile ms)\")\n",
    "plt.ylabel(\"Kalp Atışı Genliği\")\n",
    "plt.legend()\n",
    "plt.show()"
   ]
  },
  {
   "cell_type": "code",
   "execution_count": null,
   "id": "authentic-benjamin",
   "metadata": {},
   "outputs": [],
   "source": [
    "df_1=resample(df_1,replace=True,n_samples=20000,random_state=123)\n",
    "df_2=resample(df_2,replace=True,n_samples=20000,random_state=124)\n",
    "df_3=resample(df_3,replace=True,n_samples=20000,random_state=125)\n",
    "df_4=resample(df_4,replace=True,n_samples=20000,random_state=126)\n",
    "\n",
    "train_df=pd.concat([df_0,df_1,df_2,df_3,df_4])\n",
    "\n",
    "per_class = train_df[187].value_counts()\n",
    "plt.figure(figsize=(20,10))\n",
    "my_circle=plt.Circle( (0,0), 0.8, color='white')\n",
    "plt.pie(per_class, labels=['Normal Beat','Unknown Beats','Ventricular Ectopic Beats','Supraventricular Ectopic Beats','Fusion Beats'], colors=['tab:red','tab:orange','tab:purple','tab:blue','tab:green'],autopct='%1.1f%%')\n",
    "p=plt.gcf()\n",
    "p.gca().add_artist(my_circle)\n",
    "plt.show()"
   ]
  },
  {
   "cell_type": "code",
   "execution_count": null,
   "id": "occasional-duncan",
   "metadata": {},
   "outputs": [],
   "source": [
    "sns.catplot(x = 187, kind = 'count', data = train_df)\n",
    "\n",
    "plt.xlabel(\"Siniflar\")\n",
    "plt.ylabel(\"Örnek sayısı\")\n",
    "plt.title(\"her sınıf için örnek sayıs\")"
   ]
  },
  {
   "cell_type": "code",
   "execution_count": null,
   "id": "fallen-above",
   "metadata": {},
   "outputs": [],
   "source": [
    "classes_0=df_0\n",
    "classes_0"
   ]
  },
  {
   "cell_type": "code",
   "execution_count": null,
   "id": "dense-roller",
   "metadata": {},
   "outputs": [],
   "source": [
    "sns.set_style('whitegrid')\n",
    "plt.figure(figsize = (20,8))\n",
    "plt.plot(classes_0.iloc[500, 0:187], color = 'red')\n",
    "plt.title('normal beat',fontsize = 16)\n",
    "plt.show()"
   ]
  },
  {
   "cell_type": "code",
   "execution_count": null,
   "id": "victorian-publicity",
   "metadata": {},
   "outputs": [],
   "source": [
    "classes_1=df_1\n",
    "classes_1"
   ]
  },
  {
   "cell_type": "code",
   "execution_count": null,
   "id": "emotional-nancy",
   "metadata": {},
   "outputs": [],
   "source": [
    "sns.set_style('whitegrid')\n",
    "plt.figure(figsize = (20,8))\n",
    "plt.plot(classes_1.iloc[500, 0:187], color = 'red')\n",
    "plt.title('unknown Beat',fontsize = 16)\n",
    "plt.show()"
   ]
  },
  {
   "cell_type": "code",
   "execution_count": null,
   "id": "billion-square",
   "metadata": {},
   "outputs": [],
   "source": [
    "classes_2=df_2\n",
    "classes_2"
   ]
  },
  {
   "cell_type": "code",
   "execution_count": null,
   "id": "tropical-female",
   "metadata": {},
   "outputs": [],
   "source": [
    "sns.set_style('whitegrid')\n",
    "plt.figure(figsize = (20,8))\n",
    "plt.plot(classes_2.iloc[500, 0:187], color = 'red')\n",
    "plt.title('Ventricular ectopic beat',fontsize = 16)\n",
    "plt.show()"
   ]
  },
  {
   "cell_type": "code",
   "execution_count": null,
   "id": "numeric-batch",
   "metadata": {},
   "outputs": [],
   "source": [
    "classes_3=df_3\n",
    "classes_3"
   ]
  },
  {
   "cell_type": "code",
   "execution_count": null,
   "id": "laden-violence",
   "metadata": {},
   "outputs": [],
   "source": [
    "sns.set_style('whitegrid')\n",
    "plt.figure(figsize = (20,8))\n",
    "plt.plot(classes_3.iloc[500, 0:187], color = 'red')\n",
    "plt.title('Supraventricular ectopic beat',fontsize = 16)\n",
    "plt.show()"
   ]
  },
  {
   "cell_type": "code",
   "execution_count": null,
   "id": "intellectual-jaguar",
   "metadata": {},
   "outputs": [],
   "source": [
    "classes_4=df_4\n",
    "classes_4"
   ]
  },
  {
   "cell_type": "code",
   "execution_count": null,
   "id": "thorough-announcement",
   "metadata": {},
   "outputs": [],
   "source": [
    "sns.set_style('whitegrid')\n",
    "plt.figure(figsize = (20,8))\n",
    "plt.plot(classes_4.iloc[500, 0:187], color = 'red')\n",
    "plt.title('Fusion Beat',fontsize = 16)\n",
    "plt.show()"
   ]
  },
  {
   "cell_type": "code",
   "execution_count": null,
   "id": "animal-circle",
   "metadata": {},
   "outputs": [],
   "source": [
    "classes=train_df.groupby(187,group_keys=False).apply(lambda train_df : train_df.sample(1))\n",
    "classes"
   ]
  },
  {
   "cell_type": "code",
   "execution_count": null,
   "id": "incoming-preference",
   "metadata": {},
   "outputs": [],
   "source": [
    "plt.figure(figsize=(16,8))\n",
    "\n",
    "plt.subplot(2, 3, 1)  \n",
    "plt.plot(classes.iloc[0,:186])\n",
    "plt.title('normal beat')\n",
    "\n",
    "plt.subplot(2, 3, 2)  \n",
    "plt.plot(classes.iloc[1,:186])\n",
    "plt.title('unknown Beat')\n",
    "\n",
    "plt.subplot(2, 3, 3)  \n",
    "plt.plot(classes.iloc[2,:186])\n",
    "plt.title('Ventricular ectopic beat')\n",
    "\n",
    "plt.subplot(2, 3, 4)  \n",
    "plt.plot(classes.iloc[3,:186])\n",
    "plt.title('Supraventricular ectopic beat')\n",
    "\n",
    "plt.subplot(2, 3, 5)  \n",
    "plt.plot(classes.iloc[4,:186])\n",
    "plt.title('Fusion Beat')\n",
    "\n",
    "plt.show()"
   ]
  },
  {
   "cell_type": "code",
   "execution_count": null,
   "id": "united-savage",
   "metadata": {},
   "outputs": [],
   "source": [
    "def plot_hist(class_number,size,min_):\n",
    "    \n",
    "    img=train_df.loc[train_df[187]==class_number].values\n",
    "   \n",
    "    img=img[:,min_:size]\n",
    "    \n",
    "    img_flatten=img.flatten()\n",
    "    \n",
    "    final1=np.arange(min_,size)\n",
    "    for i in range (img.shape[0]-1):\n",
    "        tempo1=np.arange(min_,size)\n",
    "        final1=np.concatenate((final1, tempo1), axis=None)\n",
    "    print(len(final1))\n",
    "    print(len(img_flatten))\n",
    "    plt.hist2d(final1,img_flatten, bins=(80,80),cmap=plt.cm.jet)\n",
    "    plt.show()"
   ]
  },
  {
   "cell_type": "code",
   "execution_count": null,
   "id": "conscious-authority",
   "metadata": {},
   "outputs": [],
   "source": [
    "plt.figure(figsize=(12,4))\n",
    "plt.subplot(1, 2, 1)  \n",
    "plt.plot(classes.iloc[0,:186])\n",
    "plt.title('Normal beat', fontsize = 14)\n",
    "plt.subplot(1, 2, 2)  \n",
    "plot_hist(0,70,5)"
   ]
  },
  {
   "cell_type": "code",
   "execution_count": null,
   "id": "romance-compensation",
   "metadata": {},
   "outputs": [],
   "source": [
    "plt.figure(figsize=(12,4))\n",
    "plt.subplot(1, 2, 1)\n",
    "plt.plot(classes.iloc[1,:186])\n",
    "plt.title('unknown Beat', fontsize = 14)\n",
    "plt.subplot(1, 2, 2)  \n",
    "plot_hist(1,50,5)"
   ]
  },
  {
   "cell_type": "code",
   "execution_count": null,
   "id": "soviet-outline",
   "metadata": {},
   "outputs": [],
   "source": [
    "plt.figure(figsize=(12,4))\n",
    "plt.subplot(1, 2, 1)  \n",
    "plt.plot(classes.iloc[2,:186])\n",
    "plt.title('Ventricular ectopic beat', fontsize = 14)\n",
    "plt.subplot(1, 2, 2) \n",
    "plot_hist(2,60,30)"
   ]
  },
  {
   "cell_type": "code",
   "execution_count": null,
   "id": "interracial-viking",
   "metadata": {},
   "outputs": [],
   "source": [
    "plt.figure(figsize=(12,4))\n",
    "plt.subplot(1, 2, 1) \n",
    "plt.plot(classes.iloc[3,:186])\n",
    "plt.title('Supraventricular ectopic beat', fontsize = 14)\n",
    "plt.subplot(1, 2, 2) \n",
    "plot_hist(3,60,25)"
   ]
  },
  {
   "cell_type": "code",
   "execution_count": null,
   "id": "controlled-benchmark",
   "metadata": {},
   "outputs": [],
   "source": [
    "plt.figure(figsize=(12,4))\n",
    "plt.subplot(1, 2, 1)   \n",
    "plt.plot(classes.iloc[4,:186])\n",
    "plt.title('Fusion Beat', fontsize = 14)\n",
    "plt.subplot(1, 2, 2) \n",
    "plot_hist(4,50,18)"
   ]
  },
  {
   "cell_type": "code",
   "execution_count": null,
   "id": "comparative-antarctica",
   "metadata": {},
   "outputs": [],
   "source": [
    "from keras.utils import to_categorical\n",
    "from sklearn.utils import shuffle\n",
    "from keras import layers\n",
    "from keras.layers import Input, Dense, Dropout, Activation, ZeroPadding2D, BatchNormalization, Flatten, Conv2D, Embedding, Add\n",
    "from keras.layers import Conv1D, GlobalAveragePooling1D, AveragePooling2D, MaxPooling2D, MaxPool1D, ZeroPadding1D, GlobalMaxPooling2D, GlobalAveragePooling2D, LSTM, SpatialDropout1D\n",
    "from keras.models import Sequential, Model\n",
    "from keras.preprocessing import image\n",
    "from keras.utils import plot_model\n",
    "from keras.applications.inception_v3 import InceptionV3\n",
    "from keras.layers.merge import concatenate\n",
    "from keras.models import Sequential\n",
    "from keras.layers import Dense \n",
    "from keras.layers import Conv1D, MaxPooling1D, Flatten\n",
    "from keras.optimizers import Adam\n",
    "\n",
    "\n",
    "from keras.layers.normalization import BatchNormalization"
   ]
  },
  {
   "cell_type": "code",
   "execution_count": null,
   "id": "behind-lover",
   "metadata": {},
   "outputs": [],
   "source": [
    "X_train = np.array(train_ptb.iloc[:, :187])\n",
    "X_test = np.array(test_ptb.iloc[:, :187])\n",
    "y_train = np.array(train_ptb[187])\n",
    "y_test = np.array(test_ptb[187])\n",
    "X_train, y_train = shuffle(X_train, y_train, random_state = 101)\n",
    "X_test, y_test = shuffle(X_test, y_test, random_state = 101)\n",
    "X_train = np.expand_dims(X_train, 2)\n",
    "X_test = np.expand_dims(X_test, 2)\n",
    "y_train = to_categorical(y_train)\n",
    "y_test = to_categorical(y_test)\n",
    "print(X_train.shape)\n",
    "print(X_test.shape)\n",
    "print(y_train.shape)\n",
    "print(y_test.shape)"
   ]
  },
  {
   "cell_type": "code",
   "execution_count": null,
   "id": "muslim-toner",
   "metadata": {},
   "outputs": [],
   "source": [
    "def build_model():   \n",
    "    alexNet_model=Sequential()\n",
    "\n",
    "    alexNet_model.add(Conv1D(filters=96, activation='relu', kernel_size=11, strides=4, input_shape=(187,1)))\n",
    "    alexNet_model.add(BatchNormalization())\n",
    "    alexNet_model.add(MaxPool1D(pool_size=2, strides=2, padding='same'))\n",
    "\n",
    "    alexNet_model.add(Conv1D(filters=256, kernel_size=5, padding='same', activation='relu'))\n",
    "    alexNet_model.add(BatchNormalization())\n",
    "    alexNet_model.add(MaxPool1D(pool_size=2, strides=2, padding='same'))\n",
    "\n",
    "    alexNet_model.add(Conv1D(filters=384, padding='same', kernel_size=3, activation='relu'))\n",
    "    alexNet_model.add(Conv1D(filters=384, kernel_size=3, activation='relu'))\n",
    "    alexNet_model.add(Conv1D(filters=256, kernel_size=3, activation='relu'))\n",
    "    alexNet_model.add(BatchNormalization())\n",
    "    alexNet_model.add(MaxPool1D(pool_size=2, strides=2, padding='same'))\n",
    "\n",
    "    alexNet_model.add(Flatten())\n",
    "    alexNet_model.add(Dense(4096, activation='relu'))\n",
    "    alexNet_model.add(Dropout(0.4))\n",
    "    alexNet_model.add(Dense(4096, activation='relu'))\n",
    "    alexNet_model.add(Dropout(0.4))\n",
    "    alexNet_model.add(Dense(5, activation='softmax'))\n",
    "    return alexNet_model"
   ]
  },
  {
   "cell_type": "code",
   "execution_count": null,
   "id": "fatty-ratio",
   "metadata": {},
   "outputs": [],
   "source": [
    "alexNet_model=build_model()"
   ]
  },
  {
   "cell_type": "code",
   "execution_count": null,
   "id": "bearing-disposal",
   "metadata": {},
   "outputs": [],
   "source": [
    "alexNet_model.summary()"
   ]
  },
  {
   "cell_type": "code",
   "execution_count": null,
   "id": "smoking-stone",
   "metadata": {},
   "outputs": [],
   "source": [
    "plot_model(alexNet_model)"
   ]
  },
  {
   "cell_type": "code",
   "execution_count": null,
   "id": "tribal-amino",
   "metadata": {},
   "outputs": [],
   "source": [
    "alexNet_model.compile(optimizer='adam', loss='categorical_crossentropy', metrics=['accuracy'])"
   ]
  },
  {
   "cell_type": "code",
   "execution_count": null,
   "id": "adjacent-distinction",
   "metadata": {},
   "outputs": [],
   "source": [
    "alexNet_model_history = alexNet_model.fit(X_train, y_train, epochs = 10, batch_size = 32, validation_data = (X_test, y_test))"
   ]
  },
  {
   "cell_type": "code",
   "execution_count": null,
   "id": "bizarre-organization",
   "metadata": {},
   "outputs": [],
   "source": [
    "val_loss,val_accuracy=alexNet_model.evaluate(X_test, y_test) "
   ]
  },
  {
   "cell_type": "code",
   "execution_count": null,
   "id": "appreciated-reason",
   "metadata": {},
   "outputs": [],
   "source": [
    "print(\"val_accuracy : \" , val_accuracy  )"
   ]
  },
  {
   "cell_type": "code",
   "execution_count": null,
   "id": "surface-guess",
   "metadata": {},
   "outputs": [],
   "source": [
    "val_loss,val_accuracy=alexNet_model.evaluate(X_train, y_train)"
   ]
  },
  {
   "cell_type": "code",
   "execution_count": null,
   "id": "homeless-implementation",
   "metadata": {},
   "outputs": [],
   "source": [
    "print(\"val_accuracy : \" , val_accuracy  )"
   ]
  },
  {
   "cell_type": "code",
   "execution_count": null,
   "id": "incredible-register",
   "metadata": {},
   "outputs": [],
   "source": [
    "plt.plot(history.history['accuracy'])\n",
    "plt.plot(history.history['val_accuracy'])\n",
    "plt.legend([\"accuracy\",\"val_accuracy\"])\n",
    "plt.xlabel('Epoch')\n",
    "plt.ylabel('Accuracy')"
   ]
  },
  {
   "cell_type": "code",
   "execution_count": null,
   "id": "understanding-heritage",
   "metadata": {},
   "outputs": [],
   "source": [
    "plt.plot(history.history['loss'])\n",
    "plt.plot(history.history['val_loss'])\n",
    "plt.legend([\"loss\",\"val_loss\"])\n",
    "plt.xlabel('Epoch')\n",
    "plt.ylabel('Loss')"
   ]
  },
  {
   "cell_type": "code",
   "execution_count": null,
   "id": "boxed-mexican",
   "metadata": {},
   "outputs": [],
   "source": [
    "from sklearn.metrics import classification_report, confusion_matrix\n",
    "\n",
    "y_true=[]\n",
    "for element in y_test:\n",
    "    y_true.append(np.argmax(element))\n",
    "prediction_proba=alexNet_model.predict(X_test)\n",
    "prediction=np.argmax(prediction_proba,axis=1)\n",
    "alexNet_model_matrix = confusion_matrix(y_true, prediction)\n",
    "sns.heatmap(confusion_matrix(np.argmax(y_test, axis =1), prediction), annot=True,fmt='0.0f', cmap='Blues',xticklabels= ['N', 'S', 'V', 'F', 'Q'], yticklabels=['N', 'S', 'V', 'F', 'Q'])\n",
    "plt.ylabel('Actual')\n",
    "plt.xlabel('Predicted')\n",
    "plt.show(block=False)"
   ]
  },
  {
   "cell_type": "code",
   "execution_count": null,
   "id": "genetic-valley",
   "metadata": {},
   "outputs": [],
   "source": [
    "y_true=[]\n",
    "for element in y_test:\n",
    "    y_true.append(np.argmax(element))\n",
    "prediction_proba=alexNet_model.predict(X_test)\n",
    "prediction=np.argmax(prediction_proba,axis=1)\n",
    "alexNet_model_matrix = confusion_matrix(y_true, prediction)\n",
    "sns.heatmap(alexNet_model_matrix/np.sum(alexNet_model_matrix), annot=True,fmt='.2%', cmap='Blues',xticklabels= ['N', 'S', 'V', 'F', 'Q'], yticklabels=['N', 'S', 'V', 'F', 'Q'])\n",
    "plt.ylabel('Actual')\n",
    "plt.xlabel('Predicted')\n",
    "plt.show(block=False)"
   ]
  },
  {
   "cell_type": "code",
   "execution_count": null,
   "id": "large-governor",
   "metadata": {},
   "outputs": [],
   "source": [
    "FP = alexNet_model_matrix.sum(axis=0) - np.diag(alexNet_model_matrix)  \n",
    "FN = alexNet_model_matrix.sum(axis=1) - np.diag(alexNet_model_matrix)\n",
    "TP = np.diag(alexNet_model_matrix)\n",
    "TN = alexNet_model_matrix.sum() - (FP + FN + TP)\n",
    "\n",
    "# Sensitivity\n",
    "TPR = TP/(TP+FN)\n",
    "\n",
    "# Specificity \n",
    "TNR = TN/(TN+FP) \n",
    "# Precision\n",
    "PPV = TP/(TP+FP)\n",
    "#Score(F1)\n",
    "F1=(2*(PPV*TPR))/(PPV+TPR)\n",
    "# Overall accuracy\n",
    "ACC = (TP+TN)/(TP+FP+FN+TN)\n",
    "\n",
    "print(\"Sensitivity(SEN) :\"  , TPR)\n",
    "print(\"Specificity (SPE) :\"  , TNR)\n",
    "print(\"Precision(PRE) :\"  , PPV)\n",
    "print(\"Overall accuracy(ACC) :\"  , ACC)\n",
    "print(\"Score(F1)\" , F1)"
   ]
  },
  {
   "cell_type": "code",
   "execution_count": null,
   "id": "behavioral-thanksgiving",
   "metadata": {},
   "outputs": [],
   "source": [
    "print(classification_report(np.argmax(y_test, axis=1), prediction))"
   ]
  },
  {
   "cell_type": "code",
   "execution_count": null,
   "id": "economic-lindsay",
   "metadata": {},
   "outputs": [],
   "source": [
    "from sklearn.metrics import confusion_matrix, accuracy_score\n",
    "print(\"Accuracy score of the predictions: {0}\".format(accuracy_score(y_true, prediction)))"
   ]
  },
  {
   "cell_type": "code",
   "execution_count": null,
   "id": "loose-bulgarian",
   "metadata": {},
   "outputs": [],
   "source": []
  },
  {
   "cell_type": "code",
   "execution_count": null,
   "id": "falling-preliminary",
   "metadata": {},
   "outputs": [],
   "source": []
  },
  {
   "cell_type": "code",
   "execution_count": null,
   "id": "biological-floor",
   "metadata": {},
   "outputs": [],
   "source": []
  },
  {
   "cell_type": "code",
   "execution_count": null,
   "id": "compound-briefs",
   "metadata": {},
   "outputs": [],
   "source": []
  }
 ],
 "metadata": {
  "kernelspec": {
   "display_name": "Python 3",
   "language": "python",
   "name": "python3"
  },
  "language_info": {
   "codemirror_mode": {
    "name": "ipython",
    "version": 3
   },
   "file_extension": ".py",
   "mimetype": "text/x-python",
   "name": "python",
   "nbconvert_exporter": "python",
   "pygments_lexer": "ipython3",
   "version": "3.8.5"
  }
 },
 "nbformat": 4,
 "nbformat_minor": 5
}
