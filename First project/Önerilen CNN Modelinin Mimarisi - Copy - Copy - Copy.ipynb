{
 "cells": [
  {
   "cell_type": "code",
   "execution_count": null,
   "id": "civic-greenhouse",
   "metadata": {},
   "outputs": [],
   "source": [
    "import numpy as np\n",
    "import pandas as pd\n",
    "import seaborn as sns\n",
    "import matplotlib.pyplot as plt\n",
    "from sklearn.metrics import classification_report\n",
    "from sklearn.model_selection import train_test_split\n",
    "from sklearn.metrics import f1_score\n",
    "from sklearn.metrics import confusion_matrix\n",
    "from keras.utils.np_utils import to_categorical\n",
    "from sklearn.utils import class_weight"
   ]
  },
  {
   "cell_type": "code",
   "execution_count": null,
   "id": "confused-tokyo",
   "metadata": {},
   "outputs": [],
   "source": [
    "train = pd.read_csv(\"train.csv\", header = None)\n",
    "test = pd.read_csv(\"test.csv\", header = None)"
   ]
  },
  {
   "cell_type": "code",
   "execution_count": null,
   "id": "excessive-housing",
   "metadata": {},
   "outputs": [],
   "source": [
    "print(\"dataset detail için :\\n\")\n",
    "print(\" test dataset\")\n",
    "print(train.info())\n",
    "print(\"******************\\n\")\n",
    "print(\" train dataset\")\n",
    "print(test.info())"
   ]
  },
  {
   "cell_type": "code",
   "execution_count": null,
   "id": "saved-kuwait",
   "metadata": {},
   "outputs": [],
   "source": [
    "train"
   ]
  },
  {
   "cell_type": "code",
   "execution_count": null,
   "id": "therapeutic-preference",
   "metadata": {},
   "outputs": [],
   "source": [
    "train.shape"
   ]
  },
  {
   "cell_type": "code",
   "execution_count": null,
   "id": "frank-importance",
   "metadata": {},
   "outputs": [],
   "source": [
    "train[187].value_counts()"
   ]
  },
  {
   "cell_type": "code",
   "execution_count": null,
   "id": "prescription-terrace",
   "metadata": {},
   "outputs": [],
   "source": [
    "sns.catplot(x = 187, kind = 'count', data = train)\n",
    "\n",
    "plt.xlabel(\"Siniflar\")\n",
    "plt.ylabel(\"Örnek sayısı\")\n",
    "plt.title(\"her sınıf için örnek sayıs\")"
   ]
  },
  {
   "cell_type": "code",
   "execution_count": null,
   "id": "prescribed-generator",
   "metadata": {},
   "outputs": [],
   "source": [
    "test"
   ]
  },
  {
   "cell_type": "code",
   "execution_count": null,
   "id": "clinical-mattress",
   "metadata": {},
   "outputs": [],
   "source": [
    "test.shape"
   ]
  },
  {
   "cell_type": "code",
   "execution_count": null,
   "id": "liable-reaction",
   "metadata": {},
   "outputs": [],
   "source": [
    "test[187].value_counts()"
   ]
  },
  {
   "cell_type": "code",
   "execution_count": null,
   "id": "beginning-yahoo",
   "metadata": {},
   "outputs": [],
   "source": [
    "sns.catplot(x = 187, kind = 'count', data = test)\n",
    "\n",
    "plt.xlabel(\"Siniflar\")\n",
    "plt.ylabel(\"Örnek sayısı\")\n",
    "plt.title(\"her sınıf için örnek sayıs\")"
   ]
  },
  {
   "cell_type": "code",
   "execution_count": null,
   "id": "white-commodity",
   "metadata": {},
   "outputs": [],
   "source": [
    "train[187] = train[187].astype('int')"
   ]
  },
  {
   "cell_type": "code",
   "execution_count": null,
   "id": "mechanical-wealth",
   "metadata": {},
   "outputs": [],
   "source": [
    "test[187] = test[187].astype('int')"
   ]
  },
  {
   "cell_type": "code",
   "execution_count": null,
   "id": "desirable-mining",
   "metadata": {},
   "outputs": [],
   "source": [
    "frames = [train, test]\n",
    "\n",
    "ptb_data = pd.concat(frames)"
   ]
  },
  {
   "cell_type": "code",
   "execution_count": null,
   "id": "indonesian-possession",
   "metadata": {},
   "outputs": [],
   "source": [
    "print(ptb_data.info())"
   ]
  },
  {
   "cell_type": "code",
   "execution_count": null,
   "id": "center-salem",
   "metadata": {},
   "outputs": [],
   "source": [
    "ptb_data"
   ]
  },
  {
   "cell_type": "code",
   "execution_count": null,
   "id": "deadly-parameter",
   "metadata": {},
   "outputs": [],
   "source": [
    "ptb_data.iloc[:, 187].unique()"
   ]
  },
  {
   "cell_type": "code",
   "execution_count": null,
   "id": "tamil-carroll",
   "metadata": {},
   "outputs": [],
   "source": [
    "ptb_data.shape"
   ]
  },
  {
   "cell_type": "code",
   "execution_count": null,
   "id": "dense-solution",
   "metadata": {},
   "outputs": [],
   "source": [
    "ptb_data[187].value_counts()"
   ]
  },
  {
   "cell_type": "code",
   "execution_count": null,
   "id": "streaming-cookie",
   "metadata": {},
   "outputs": [],
   "source": [
    "sns.catplot(x = 187, kind = 'count', data = ptb_data)\n",
    "\n",
    "plt.xlabel(\"Siniflar\")\n",
    "plt.ylabel(\"Örnek sayısı\")\n",
    "plt.title(\"her sınıf için örnek sayıs\")"
   ]
  },
  {
   "cell_type": "code",
   "execution_count": null,
   "id": "abandoned-values",
   "metadata": {},
   "outputs": [],
   "source": [
    "per_class = ptb_data[187].value_counts()\n",
    "plt.figure(figsize=(20,10))\n",
    "my_circle=plt.Circle( (0,0), 0.8, color='white')\n",
    "plt.pie(per_class, labels=['Normal Beat','Unknown Beats','Ventricular Ectopic Beats','Supraventricular Ectopic Beats','Fusion Beats'], colors=['tab:green','tab:orange','tab:purple','tab:blue','tab:red'],autopct='%1.1f%%')\n",
    "p=plt.gcf()\n",
    "p.gca().add_artist(my_circle)\n",
    "plt.show()"
   ]
  },
  {
   "cell_type": "code",
   "execution_count": null,
   "id": "preceding-retailer",
   "metadata": {},
   "outputs": [],
   "source": [
    "msk = np.random.rand(len(ptb_data)) < 0.8\n",
    "\n",
    "train_ptb = ptb_data[msk]\n",
    "\n",
    "test_ptb = ptb_data[~msk]"
   ]
  },
  {
   "cell_type": "code",
   "execution_count": null,
   "id": "advised-hebrew",
   "metadata": {},
   "outputs": [],
   "source": [
    "train_ptb"
   ]
  },
  {
   "cell_type": "code",
   "execution_count": null,
   "id": "romance-arizona",
   "metadata": {},
   "outputs": [],
   "source": [
    "train_ptb.iloc[:, 187].unique()"
   ]
  },
  {
   "cell_type": "code",
   "execution_count": null,
   "id": "built-berlin",
   "metadata": {},
   "outputs": [],
   "source": [
    "train_ptb.shape"
   ]
  },
  {
   "cell_type": "code",
   "execution_count": null,
   "id": "acquired-seattle",
   "metadata": {},
   "outputs": [],
   "source": [
    "train_ptb[187].value_counts()"
   ]
  },
  {
   "cell_type": "code",
   "execution_count": null,
   "id": "certified-madrid",
   "metadata": {},
   "outputs": [],
   "source": [
    "sns.catplot(x = 187, kind = 'count', data = train_ptb)\n",
    "\n",
    "plt.xlabel(\"Siniflar\")\n",
    "plt.ylabel(\"Örnek sayısı\")\n",
    "plt.title(\"her sınıf için örnek sayıs\")"
   ]
  },
  {
   "cell_type": "code",
   "execution_count": null,
   "id": "sonic-equality",
   "metadata": {},
   "outputs": [],
   "source": [
    "test_ptb"
   ]
  },
  {
   "cell_type": "code",
   "execution_count": null,
   "id": "downtown-montreal",
   "metadata": {},
   "outputs": [],
   "source": [
    "test_ptb.shape"
   ]
  },
  {
   "cell_type": "code",
   "execution_count": null,
   "id": "derived-survey",
   "metadata": {},
   "outputs": [],
   "source": [
    "test_ptb[187].value_counts()"
   ]
  },
  {
   "cell_type": "code",
   "execution_count": null,
   "id": "informative-likelihood",
   "metadata": {},
   "outputs": [],
   "source": [
    "sns.catplot(x = 187, kind = 'count', data = test_ptb)\n",
    "\n",
    "plt.xlabel(\"Siniflar\")\n",
    "plt.ylabel(\"Örnek sayısı\")\n",
    "plt.title(\"her sınıf için örnek sayıs\")"
   ]
  },
  {
   "cell_type": "code",
   "execution_count": null,
   "id": "impressed-webcam",
   "metadata": {},
   "outputs": [],
   "source": [
    "per_class = train_ptb[187].value_counts()\n",
    "plt.figure(figsize=(20,10))\n",
    "my_circle=plt.Circle( (0,0), 0.8, color='white')\n",
    "plt.pie(per_class, labels=['Normal Beat','Unknown Beats','Ventricular Ectopic Beats','Supraventricular Ectopic Beats','Fusion Beats'], colors=['tab:green','tab:orange','tab:purple','tab:blue','tab:red'],autopct='%1.1f%%')\n",
    "p=plt.gcf()\n",
    "p.gca().add_artist(my_circle)\n",
    "plt.show()"
   ]
  },
  {
   "cell_type": "code",
   "execution_count": null,
   "id": "threaded-completion",
   "metadata": {},
   "outputs": [],
   "source": [
    "sns.set_style('whitegrid')\n",
    "plt.figure(figsize = (20,8))\n",
    "plt.plot(train_ptb.iloc[500, 0:187], color = 'red')\n",
    "plt.title(\"ECG Normal  Beats\", fontsize = 16)\n",
    "plt.show()"
   ]
  },
  {
   "cell_type": "code",
   "execution_count": null,
   "id": "organized-onion",
   "metadata": {},
   "outputs": [],
   "source": [
    "from sklearn.utils import resample\n",
    "df_1=train_ptb[train_ptb[187]==1]\n",
    "df_2=train_ptb[train_ptb[187]==2]\n",
    "df_3=train_ptb[train_ptb[187]==3]\n",
    "df_4=train_ptb[train_ptb[187]==4]\n",
    "df_0=(train_ptb[train_ptb[187]==0]).sample(n=20000,random_state=42)"
   ]
  },
  {
   "cell_type": "code",
   "execution_count": null,
   "id": "unusual-administrator",
   "metadata": {},
   "outputs": [],
   "source": [
    "sns.set_style(\"whitegrid\")\n",
    "plt.figure(figsize=(20,8))\n",
    "plt.plot(df_0.iloc[0, 0:187], color = 'red', label = 'Normal Heart Beats')\n",
    "plt.plot(df_3.iloc[0, 0:187], color = 'blue', label = 'Supraventricular ectopic beats')\n",
    "plt.title(\"ECG Normal ve Supraventricular Ectopic Beats\", fontsize = 16)\n",
    "plt.xlabel(\"Zaman (ile ms)\")\n",
    "plt.ylabel(\"Kalp Atışı Genliği\")\n",
    "plt.legend()\n",
    "plt.show()"
   ]
  },
  {
   "cell_type": "code",
   "execution_count": null,
   "id": "pretty-baking",
   "metadata": {},
   "outputs": [],
   "source": [
    "df_1=resample(df_1,replace=True,n_samples=20000,random_state=123)\n",
    "df_2=resample(df_2,replace=True,n_samples=20000,random_state=124)\n",
    "df_3=resample(df_3,replace=True,n_samples=20000,random_state=125)\n",
    "df_4=resample(df_4,replace=True,n_samples=20000,random_state=126)\n",
    "\n",
    "train_df=pd.concat([df_0,df_1,df_2,df_3,df_4])\n",
    "\n",
    "per_class = train_df[187].value_counts()\n",
    "plt.figure(figsize=(20,10))\n",
    "my_circle=plt.Circle( (0,0), 0.8, color='white')\n",
    "plt.pie(per_class, labels=['Normal Beat','Unknown Beats','Ventricular Ectopic Beats','Supraventricular Ectopic Beats','Fusion Beats'], colors=['tab:red','tab:orange','tab:purple','tab:blue','tab:green'],autopct='%1.1f%%')\n",
    "p=plt.gcf()\n",
    "p.gca().add_artist(my_circle)\n",
    "plt.show()"
   ]
  },
  {
   "cell_type": "code",
   "execution_count": null,
   "id": "overall-appointment",
   "metadata": {},
   "outputs": [],
   "source": [
    "sns.catplot(x = 187, kind = 'count', data = train_df)\n",
    "\n",
    "plt.xlabel(\"Siniflar\")\n",
    "plt.ylabel(\"Örnek sayısı\")\n",
    "plt.title(\"her sınıf için örnek sayıs\")"
   ]
  },
  {
   "cell_type": "code",
   "execution_count": null,
   "id": "promotional-celtic",
   "metadata": {},
   "outputs": [],
   "source": [
    "classes_0=df_0\n",
    "classes_0"
   ]
  },
  {
   "cell_type": "code",
   "execution_count": null,
   "id": "convinced-plate",
   "metadata": {},
   "outputs": [],
   "source": [
    "sns.set_style('whitegrid')\n",
    "plt.figure(figsize = (20,8))\n",
    "plt.plot(classes_0.iloc[500, 0:187], color = 'red')\n",
    "plt.title('normal beat',fontsize = 16)\n",
    "plt.show()"
   ]
  },
  {
   "cell_type": "code",
   "execution_count": null,
   "id": "southeast-queue",
   "metadata": {},
   "outputs": [],
   "source": [
    "classes_1=df_1\n",
    "classes_1"
   ]
  },
  {
   "cell_type": "code",
   "execution_count": null,
   "id": "meaning-laundry",
   "metadata": {},
   "outputs": [],
   "source": [
    "sns.set_style('whitegrid')\n",
    "plt.figure(figsize = (20,8))\n",
    "plt.plot(classes_1.iloc[500, 0:187], color = 'red')\n",
    "plt.title('unknown Beat',fontsize = 16)\n",
    "plt.show()"
   ]
  },
  {
   "cell_type": "code",
   "execution_count": null,
   "id": "behind-trauma",
   "metadata": {},
   "outputs": [],
   "source": [
    "classes_2=df_2\n",
    "classes_2"
   ]
  },
  {
   "cell_type": "code",
   "execution_count": null,
   "id": "civic-syndrome",
   "metadata": {},
   "outputs": [],
   "source": [
    "sns.set_style('whitegrid')\n",
    "plt.figure(figsize = (20,8))\n",
    "plt.plot(classes_2.iloc[500, 0:187], color = 'red')\n",
    "plt.title('Ventricular ectopic beat',fontsize = 16)\n",
    "plt.show()"
   ]
  },
  {
   "cell_type": "code",
   "execution_count": null,
   "id": "protective-approval",
   "metadata": {},
   "outputs": [],
   "source": [
    "classes_3=df_3\n",
    "classes_3"
   ]
  },
  {
   "cell_type": "code",
   "execution_count": null,
   "id": "stupid-stuff",
   "metadata": {},
   "outputs": [],
   "source": [
    "sns.set_style('whitegrid')\n",
    "plt.figure(figsize = (20,8))\n",
    "plt.plot(classes_3.iloc[500, 0:187], color = 'red')\n",
    "plt.title('Supraventricular ectopic beat',fontsize = 16)\n",
    "plt.show()"
   ]
  },
  {
   "cell_type": "code",
   "execution_count": null,
   "id": "advisory-watts",
   "metadata": {},
   "outputs": [],
   "source": [
    "classes_4=df_4\n",
    "classes_4"
   ]
  },
  {
   "cell_type": "code",
   "execution_count": null,
   "id": "persistent-awareness",
   "metadata": {},
   "outputs": [],
   "source": [
    "sns.set_style('whitegrid')\n",
    "plt.figure(figsize = (20,8))\n",
    "plt.plot(classes_4.iloc[500, 0:187], color = 'red')\n",
    "plt.title('Fusion Beat',fontsize = 16)\n",
    "plt.show()"
   ]
  },
  {
   "cell_type": "code",
   "execution_count": null,
   "id": "exceptional-amazon",
   "metadata": {},
   "outputs": [],
   "source": [
    "classes=train_df.groupby(187,group_keys=False).apply(lambda train_df : train_df.sample(1))\n",
    "classes"
   ]
  },
  {
   "cell_type": "code",
   "execution_count": null,
   "id": "great-optics",
   "metadata": {},
   "outputs": [],
   "source": [
    "plt.figure(figsize=(16,8))\n",
    "\n",
    "plt.subplot(2, 3, 1)  \n",
    "plt.plot(classes.iloc[0,:186])\n",
    "plt.title('normal beat')\n",
    "\n",
    "plt.subplot(2, 3, 2)  \n",
    "plt.plot(classes.iloc[1,:186])\n",
    "plt.title('unknown Beat')\n",
    "\n",
    "plt.subplot(2, 3, 3)  \n",
    "plt.plot(classes.iloc[2,:186])\n",
    "plt.title('Ventricular ectopic beat')\n",
    "\n",
    "plt.subplot(2, 3, 4)  \n",
    "plt.plot(classes.iloc[3,:186])\n",
    "plt.title('Supraventricular ectopic beat')\n",
    "\n",
    "plt.subplot(2, 3, 5)  \n",
    "plt.plot(classes.iloc[4,:186])\n",
    "plt.title('Fusion Beat')\n",
    "\n",
    "plt.show()"
   ]
  },
  {
   "cell_type": "code",
   "execution_count": null,
   "id": "saved-eleven",
   "metadata": {},
   "outputs": [],
   "source": [
    "def plot_hist(class_number,size,min_):\n",
    "    \n",
    "    img=train_df.loc[train_df[187]==class_number].values\n",
    "   \n",
    "    img=img[:,min_:size]\n",
    "    \n",
    "    img_flatten=img.flatten()\n",
    "    \n",
    "    final1=np.arange(min_,size)\n",
    "    for i in range (img.shape[0]-1):\n",
    "        tempo1=np.arange(min_,size)\n",
    "        final1=np.concatenate((final1, tempo1), axis=None)\n",
    "    print(len(final1))\n",
    "    print(len(img_flatten))\n",
    "    plt.hist2d(final1,img_flatten, bins=(80,80),cmap=plt.cm.jet)\n",
    "    plt.show()"
   ]
  },
  {
   "cell_type": "code",
   "execution_count": null,
   "id": "other-oxygen",
   "metadata": {},
   "outputs": [],
   "source": [
    "plt.figure(figsize=(12,4))\n",
    "plt.subplot(1, 2, 1)  \n",
    "plt.plot(classes.iloc[0,:186])\n",
    "plt.title('Normal beat', fontsize = 14)\n",
    "plt.subplot(1, 2, 2)  \n",
    "plot_hist(0,70,5)"
   ]
  },
  {
   "cell_type": "code",
   "execution_count": null,
   "id": "disturbed-lecture",
   "metadata": {},
   "outputs": [],
   "source": [
    "plt.figure(figsize=(12,4))\n",
    "plt.subplot(1, 2, 1)\n",
    "plt.plot(classes.iloc[1,:186])\n",
    "plt.title('unknown Beat', fontsize = 14)\n",
    "plt.subplot(1, 2, 2)  \n",
    "plot_hist(1,50,5)"
   ]
  },
  {
   "cell_type": "code",
   "execution_count": null,
   "id": "funky-center",
   "metadata": {},
   "outputs": [],
   "source": [
    "plt.figure(figsize=(12,4))\n",
    "plt.subplot(1, 2, 1)  \n",
    "plt.plot(classes.iloc[2,:186])\n",
    "plt.title('Ventricular ectopic beat', fontsize = 14)\n",
    "plt.subplot(1, 2, 2) \n",
    "plot_hist(2,60,30)"
   ]
  },
  {
   "cell_type": "code",
   "execution_count": null,
   "id": "exempt-learning",
   "metadata": {},
   "outputs": [],
   "source": [
    "plt.figure(figsize=(12,4))\n",
    "plt.subplot(1, 2, 1) \n",
    "plt.plot(classes.iloc[3,:186])\n",
    "plt.title('Supraventricular ectopic beat', fontsize = 14)\n",
    "plt.subplot(1, 2, 2) \n",
    "plot_hist(3,60,25)"
   ]
  },
  {
   "cell_type": "code",
   "execution_count": null,
   "id": "professional-challenge",
   "metadata": {},
   "outputs": [],
   "source": [
    "plt.figure(figsize=(12,4))\n",
    "plt.subplot(1, 2, 1)   \n",
    "plt.plot(classes.iloc[4,:186])\n",
    "plt.title('Fusion Beat', fontsize = 14)\n",
    "plt.subplot(1, 2, 2) \n",
    "plot_hist(4,50,18)"
   ]
  },
  {
   "cell_type": "code",
   "execution_count": null,
   "id": "standard-cooler",
   "metadata": {},
   "outputs": [],
   "source": [
    "from keras.utils import to_categorical\n",
    "from sklearn.utils import shuffle\n",
    "from keras import layers\n",
    "from keras.layers import Input, Dense, Dropout, Activation, ZeroPadding2D, BatchNormalization, Flatten, Conv2D, Embedding, Add\n",
    "from keras.layers import Conv1D, GlobalAveragePooling1D, AveragePooling2D, MaxPooling2D, MaxPool1D, ZeroPadding1D, GlobalMaxPooling2D, GlobalAveragePooling2D, LSTM, SpatialDropout1D\n",
    "from keras.models import Sequential, Model\n",
    "from keras.preprocessing import image\n",
    "from keras.utils import plot_model\n",
    "from keras.applications.inception_v3 import InceptionV3\n",
    "from keras.layers.merge import concatenate\n",
    "from keras.layers import Dense \n",
    "from keras.layers import Conv1D, MaxPooling1D, Flatten\n",
    "from keras.optimizers import Adam\n",
    "\n",
    "\n",
    "from keras.layers.normalization import BatchNormalization"
   ]
  },
  {
   "cell_type": "code",
   "execution_count": null,
   "id": "fleet-prize",
   "metadata": {},
   "outputs": [],
   "source": [
    "target_train = train_df[187]\n",
    "target_test = test_ptb[187]"
   ]
  },
  {
   "cell_type": "code",
   "execution_count": null,
   "id": "medium-hardware",
   "metadata": {},
   "outputs": [],
   "source": [
    "from keras.utils.np_utils import to_categorical\n",
    "y_train = to_categorical(target_train)"
   ]
  },
  {
   "cell_type": "code",
   "execution_count": null,
   "id": "hydraulic-vancouver",
   "metadata": {},
   "outputs": [],
   "source": [
    "y_test = to_categorical(target_test)"
   ]
  },
  {
   "cell_type": "code",
   "execution_count": null,
   "id": "critical-scout",
   "metadata": {},
   "outputs": [],
   "source": [
    "X_train = train_df.iloc[:, :-1].values\n",
    "X_test = test_ptb.iloc[:, :-1].values"
   ]
  },
  {
   "cell_type": "code",
   "execution_count": null,
   "id": "normal-monte",
   "metadata": {},
   "outputs": [],
   "source": [
    "X_train.shape"
   ]
  },
  {
   "cell_type": "code",
   "execution_count": null,
   "id": "acoustic-dinner",
   "metadata": {},
   "outputs": [],
   "source": [
    "X_train = X_train.reshape(len(X_train),X_train.shape[1],1)\n",
    "X_test = X_test.reshape(len(X_test),X_test.shape[1],1)"
   ]
  },
  {
   "cell_type": "code",
   "execution_count": null,
   "id": "indoor-teddy",
   "metadata": {},
   "outputs": [],
   "source": [
    "X_train.shape"
   ]
  },
  {
   "cell_type": "code",
   "execution_count": null,
   "id": "nutritional-conditioning",
   "metadata": {},
   "outputs": [],
   "source": [
    "def build_model():\n",
    "    model = Sequential()\n",
    "    \n",
    "    model.add(Conv1D(filters = 64, kernel_size = 6, activation='relu', padding = 'same', input_shape = (187, 1))) \n",
    "    \n",
    "    model.add(BatchNormalization())\n",
    "  \n",
    "    model.add(MaxPooling1D(pool_size=(3), strides = (2), padding = 'same'))\n",
    "\n",
    "    model.add(Conv1D(filters = 64, kernel_size = 6, activation='relu', padding = 'same'))\n",
    "    model.add(BatchNormalization())\n",
    "    model.add(MaxPooling1D(pool_size=(3), strides = (2), padding = 'same'))\n",
    "\n",
    "    model.add(Conv1D( filters = 64, kernel_size = 6, activation='relu', padding = 'same'))\n",
    "    model.add(BatchNormalization())\n",
    "    model.add(MaxPooling1D(pool_size=(3), strides = (2), padding = 'same'))\n",
    "\n",
    "    model.add(Flatten())\n",
    "\n",
    "    model.add(Dense(units = 64, activation='relu'))\n",
    "    \n",
    "    model.add(Dense(units = 64, activation='relu'))\n",
    "    \n",
    "    model.add(Dense(units = 5, activation='softmax'))\n",
    "\n",
    " \n",
    "    return model"
   ]
  },
  {
   "cell_type": "code",
   "execution_count": null,
   "id": "medical-anniversary",
   "metadata": {},
   "outputs": [],
   "source": [
    "model = build_model()"
   ]
  },
  {
   "cell_type": "code",
   "execution_count": null,
   "id": "female-river",
   "metadata": {},
   "outputs": [],
   "source": [
    "model.summary()"
   ]
  },
  {
   "cell_type": "code",
   "execution_count": null,
   "id": "dense-burst",
   "metadata": {},
   "outputs": [],
   "source": [
    "plot_model(model)"
   ]
  },
  {
   "cell_type": "code",
   "execution_count": null,
   "id": "blank-buffer",
   "metadata": {},
   "outputs": [],
   "source": [
    "model.compile(optimizer = 'Adam', loss = 'categorical_crossentropy', metrics = ['accuracy'])"
   ]
  },
  {
   "cell_type": "code",
   "execution_count": null,
   "id": "lonely-french",
   "metadata": {},
   "outputs": [],
   "source": [
    "model_history = model.fit(X_train, y_train, epochs = 10, batch_size = 32, validation_data=(X_test, y_test))"
   ]
  },
  {
   "cell_type": "code",
   "execution_count": null,
   "id": "sized-tragedy",
   "metadata": {},
   "outputs": [],
   "source": [
    "val_loss,val_accuracy=model.evaluate(X_test, y_test)"
   ]
  },
  {
   "cell_type": "code",
   "execution_count": null,
   "id": "nutritional-genre",
   "metadata": {},
   "outputs": [],
   "source": [
    "print(\"val_accuracy : \" , val_accuracy  )"
   ]
  },
  {
   "cell_type": "code",
   "execution_count": null,
   "id": "trained-digest",
   "metadata": {},
   "outputs": [],
   "source": [
    "val_loss,val_accuracy=model.evaluate(X_train, y_train)"
   ]
  },
  {
   "cell_type": "code",
   "execution_count": null,
   "id": "billion-anxiety",
   "metadata": {},
   "outputs": [],
   "source": [
    "print(\"val_accuracy : \" , val_accuracy  )"
   ]
  },
  {
   "cell_type": "code",
   "execution_count": null,
   "id": "special-wichita",
   "metadata": {},
   "outputs": [],
   "source": [
    "plt.plot(model_history.history['accuracy'])\n",
    "plt.plot(model_history.history['val_accuracy'])\n",
    "plt.legend([\"accuracy\",\"val_accuracy\"])\n",
    "plt.xlabel('Epoch')\n",
    "plt.ylabel('Accuracy')"
   ]
  },
  {
   "cell_type": "code",
   "execution_count": null,
   "id": "democratic-receiver",
   "metadata": {},
   "outputs": [],
   "source": [
    "plt.plot(model_history.history['loss'])\n",
    "plt.plot(model_history.history['val_loss'])\n",
    "plt.legend([\"loss\",\"val_loss\"])\n",
    "plt.xlabel('Epoch')\n",
    "plt.ylabel('Loss')"
   ]
  },
  {
   "cell_type": "code",
   "execution_count": null,
   "id": "finnish-specification",
   "metadata": {},
   "outputs": [],
   "source": [
    "from sklearn.metrics import classification_report, confusion_matrix\n",
    "\n",
    "y_true=[]\n",
    "for element in y_test:\n",
    "    y_true.append(np.argmax(element))\n",
    "prediction_proba=model.predict(X_test)\n",
    "prediction=np.argmax(prediction_proba,axis=1)\n",
    "model_matrix = confusion_matrix(y_true, prediction)\n",
    "sns.heatmap(confusion_matrix(np.argmax(y_test, axis =1), prediction), annot=True,fmt='0.0f', cmap='YlGn',xticklabels= ['N', 'S', 'V', 'F', 'Q'], yticklabels=['N', 'S', 'V', 'F', 'Q'])\n",
    "plt.ylabel('Actual')\n",
    "plt.xlabel('Predicted')\n",
    "plt.show(block=False)"
   ]
  },
  {
   "cell_type": "code",
   "execution_count": null,
   "id": "extreme-joining",
   "metadata": {},
   "outputs": [],
   "source": [
    "y_true=[]\n",
    "for element in y_test:\n",
    "    y_true.append(np.argmax(element))\n",
    "prediction_proba=model.predict(X_test)\n",
    "prediction=np.argmax(prediction_proba,axis=1)\n",
    "model_matrix = confusion_matrix(y_true, prediction)\n",
    "sns.heatmap(model_matrix/np.sum(model_matrix), annot=True,fmt='.2%', cmap='YlGn',xticklabels= ['N', 'S', 'V', 'F', 'Q'], yticklabels=['N', 'S', 'V', 'F', 'Q'])\n",
    "plt.ylabel('Actual')\n",
    "plt.xlabel('Predicted')\n",
    "plt.show(block=False)"
   ]
  },
  {
   "cell_type": "code",
   "execution_count": null,
   "id": "interracial-latex",
   "metadata": {},
   "outputs": [],
   "source": [
    "FP = model_matrix.sum(axis=0) - np.diag(model_matrix)  \n",
    "FN = model_matrix.sum(axis=1) - np.diag(model_matrix)\n",
    "TP = np.diag(model_matrix)\n",
    "TN = model_matrix.sum() - (FP + FN + TP)\n",
    "\n",
    "# Sensitivity\n",
    "TPR = TP/(TP+FN)\n",
    "\n",
    "# Specificity \n",
    "TNR = TN/(TN+FP) \n",
    "# Precision\n",
    "PPV = TP/(TP+FP)\n",
    "#Score(F1)\n",
    "F1=(2*(PPV*TPR))/(PPV+TPR)\n",
    "# Overall accuracy\n",
    "ACC = (TP+TN)/(TP+FP+FN+TN)\n",
    "\n",
    "print(\"Sensitivity(SEN) :\"  , TPR)\n",
    "print(\"Specificity (SPE) :\"  , TNR)\n",
    "print(\"Precision(PRE) :\"  , PPV)\n",
    "print(\"Overall accuracy(ACC) :\"  , ACC)\n",
    "print(\"Score(F1)\" , F1)"
   ]
  },
  {
   "cell_type": "code",
   "execution_count": null,
   "id": "retained-festival",
   "metadata": {},
   "outputs": [],
   "source": [
    "print(classification_report(np.argmax(y_test, axis=1), prediction))"
   ]
  },
  {
   "cell_type": "code",
   "execution_count": null,
   "id": "demonstrated-utilization",
   "metadata": {},
   "outputs": [],
   "source": [
    "from sklearn.metrics import confusion_matrix, accuracy_score\n",
    "print(\"Accuracy score of the predictions: {0}\".format(accuracy_score(y_true, prediction)))"
   ]
  },
  {
   "cell_type": "code",
   "execution_count": null,
   "id": "pointed-maine",
   "metadata": {},
   "outputs": [],
   "source": [
    "from mlxtend.plotting import plot_confusion_matrix\n",
    "from sklearn.metrics import confusion_matrix\n",
    "\n",
    "y_true=[]\n",
    "for element in y_test:\n",
    "    y_true.append(np.argmax(element))\n",
    "prediction_proba=model.predict(X_test)\n",
    "prediction=np.argmax(prediction_proba,axis=1)\n",
    "model_matrix = confusion_matrix(y_true, prediction)\n",
    "class_names = ['N', 'S', 'V', 'F', 'Q']\n",
    "fig, ax = plot_confusion_matrix(conf_mat=model_matrix,\n",
    "                                show_absolute=True,\n",
    "                                show_normed=True,\n",
    "                                colorbar=True,\n",
    "                                cmap='YlGn',\n",
    "                                class_names=class_names,\n",
    "                               )\n",
    "\n",
    "plt.show()"
   ]
  }
 ],
 "metadata": {
  "kernelspec": {
   "display_name": "Python 3",
   "language": "python",
   "name": "python3"
  },
  "language_info": {
   "codemirror_mode": {
    "name": "ipython",
    "version": 3
   },
   "file_extension": ".py",
   "mimetype": "text/x-python",
   "name": "python",
   "nbconvert_exporter": "python",
   "pygments_lexer": "ipython3",
   "version": "3.8.5"
  }
 },
 "nbformat": 4,
 "nbformat_minor": 5
}
