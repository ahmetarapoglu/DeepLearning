{
 "cells": [
  {
   "cell_type": "code",
   "execution_count": null,
   "id": "heated-sauce",
   "metadata": {},
   "outputs": [],
   "source": [
    "import numpy as np\n",
    "import pandas as pd\n",
    "import seaborn as sns\n",
    "import matplotlib.pyplot as plt\n",
    "from sklearn.metrics import classification_report\n",
    "from sklearn.model_selection import train_test_split\n",
    "from sklearn.metrics import f1_score\n",
    "from sklearn.metrics import confusion_matrix\n",
    "from keras.utils.np_utils import to_categorical\n",
    "from sklearn.utils import class_weight"
   ]
  },
  {
   "cell_type": "code",
   "execution_count": null,
   "id": "cellular-chest",
   "metadata": {},
   "outputs": [],
   "source": [
    "train = pd.read_csv(\"train.csv\", header = None)\n",
    "test = pd.read_csv(\"test.csv\", header = None)"
   ]
  },
  {
   "cell_type": "code",
   "execution_count": null,
   "id": "cooked-toner",
   "metadata": {},
   "outputs": [],
   "source": [
    "print(\"dataset detail için :\\n\")\n",
    "print(\" test dataset\")\n",
    "print(train.info())\n",
    "print(\"******************\\n\")\n",
    "print(\" train dataset\")\n",
    "print(test.info())"
   ]
  },
  {
   "cell_type": "code",
   "execution_count": null,
   "id": "balanced-employee",
   "metadata": {},
   "outputs": [],
   "source": [
    "train"
   ]
  },
  {
   "cell_type": "code",
   "execution_count": null,
   "id": "worst-coating",
   "metadata": {},
   "outputs": [],
   "source": [
    "train.shape"
   ]
  },
  {
   "cell_type": "code",
   "execution_count": null,
   "id": "little-cradle",
   "metadata": {},
   "outputs": [],
   "source": [
    "train[187].value_counts()"
   ]
  },
  {
   "cell_type": "code",
   "execution_count": null,
   "id": "advised-phoenix",
   "metadata": {},
   "outputs": [],
   "source": [
    "sns.catplot(x = 187, kind = 'count', data = train)\n",
    "\n",
    "plt.xlabel(\"Siniflar\")\n",
    "plt.ylabel(\"Örnek sayısı\")\n",
    "plt.title(\"her sınıf için örnek sayıs\")"
   ]
  },
  {
   "cell_type": "code",
   "execution_count": null,
   "id": "running-applicant",
   "metadata": {},
   "outputs": [],
   "source": [
    "test"
   ]
  },
  {
   "cell_type": "code",
   "execution_count": null,
   "id": "czech-tribute",
   "metadata": {},
   "outputs": [],
   "source": [
    "test.shape"
   ]
  },
  {
   "cell_type": "code",
   "execution_count": null,
   "id": "operating-automation",
   "metadata": {},
   "outputs": [],
   "source": [
    "test[187].value_counts()"
   ]
  },
  {
   "cell_type": "code",
   "execution_count": null,
   "id": "postal-submission",
   "metadata": {},
   "outputs": [],
   "source": [
    "sns.catplot(x = 187, kind = 'count', data = test)\n",
    "\n",
    "plt.xlabel(\"Siniflar\")\n",
    "plt.ylabel(\"Örnek sayısı\")\n",
    "plt.title(\"her sınıf için örnek sayıs\")"
   ]
  },
  {
   "cell_type": "code",
   "execution_count": null,
   "id": "lyric-hearts",
   "metadata": {},
   "outputs": [],
   "source": [
    "train[187] = train[187].astype('int')"
   ]
  },
  {
   "cell_type": "code",
   "execution_count": null,
   "id": "outstanding-laser",
   "metadata": {},
   "outputs": [],
   "source": [
    "test[187] = test[187].astype('int')"
   ]
  },
  {
   "cell_type": "code",
   "execution_count": null,
   "id": "animated-integrity",
   "metadata": {},
   "outputs": [],
   "source": [
    "frames = [train, test]\n",
    "\n",
    "ptb_data = pd.concat(frames)"
   ]
  },
  {
   "cell_type": "code",
   "execution_count": null,
   "id": "blind-construction",
   "metadata": {},
   "outputs": [],
   "source": [
    "print(ptb_data.info())"
   ]
  },
  {
   "cell_type": "code",
   "execution_count": null,
   "id": "bridal-manitoba",
   "metadata": {},
   "outputs": [],
   "source": [
    "ptb_data"
   ]
  },
  {
   "cell_type": "code",
   "execution_count": null,
   "id": "scientific-tyler",
   "metadata": {},
   "outputs": [],
   "source": [
    "ptb_data.iloc[:, 187].unique()"
   ]
  },
  {
   "cell_type": "code",
   "execution_count": null,
   "id": "appointed-colleague",
   "metadata": {},
   "outputs": [],
   "source": [
    "ptb_data.shape"
   ]
  },
  {
   "cell_type": "code",
   "execution_count": null,
   "id": "functioning-diary",
   "metadata": {},
   "outputs": [],
   "source": [
    "ptb_data[187].value_counts()"
   ]
  },
  {
   "cell_type": "code",
   "execution_count": null,
   "id": "amended-energy",
   "metadata": {},
   "outputs": [],
   "source": [
    "sns.catplot(x = 187, kind = 'count', data = ptb_data)\n",
    "\n",
    "plt.xlabel(\"Siniflar\")\n",
    "plt.ylabel(\"Örnek sayısı\")\n",
    "plt.title(\"her sınıf için örnek sayıs\")"
   ]
  },
  {
   "cell_type": "code",
   "execution_count": null,
   "id": "coordinate-maker",
   "metadata": {},
   "outputs": [],
   "source": [
    "per_class = ptb_data[187].value_counts()\n",
    "plt.figure(figsize=(20,10))\n",
    "my_circle=plt.Circle( (0,0), 0.8, color='white')\n",
    "plt.pie(per_class, labels=['Normal Beat','Unknown Beats','Ventricular Ectopic Beats','Supraventricular Ectopic Beats','Fusion Beats'], colors=['tab:green','tab:orange','tab:purple','tab:blue','tab:red'],autopct='%1.1f%%')\n",
    "p=plt.gcf()\n",
    "p.gca().add_artist(my_circle)\n",
    "plt.show()"
   ]
  },
  {
   "cell_type": "code",
   "execution_count": null,
   "id": "unexpected-insert",
   "metadata": {},
   "outputs": [],
   "source": [
    "msk = np.random.rand(len(ptb_data)) < 0.8\n",
    "\n",
    "train_ptb = ptb_data[msk]\n",
    "\n",
    "test_ptb = ptb_data[~msk]"
   ]
  },
  {
   "cell_type": "code",
   "execution_count": null,
   "id": "traditional-rebate",
   "metadata": {},
   "outputs": [],
   "source": [
    "train_ptb"
   ]
  },
  {
   "cell_type": "code",
   "execution_count": null,
   "id": "constitutional-chemistry",
   "metadata": {},
   "outputs": [],
   "source": [
    "train_ptb.iloc[:, 187].unique()"
   ]
  },
  {
   "cell_type": "code",
   "execution_count": null,
   "id": "operating-billion",
   "metadata": {},
   "outputs": [],
   "source": [
    "train_ptb.shape"
   ]
  },
  {
   "cell_type": "code",
   "execution_count": null,
   "id": "crazy-amount",
   "metadata": {},
   "outputs": [],
   "source": [
    "train_ptb[187].value_counts()"
   ]
  },
  {
   "cell_type": "code",
   "execution_count": null,
   "id": "partial-profit",
   "metadata": {},
   "outputs": [],
   "source": [
    "sns.catplot(x = 187, kind = 'count', data = train_ptb)\n",
    "\n",
    "plt.xlabel(\"Siniflar\")\n",
    "plt.ylabel(\"Örnek sayısı\")\n",
    "plt.title(\"her sınıf için örnek sayıs\")"
   ]
  },
  {
   "cell_type": "code",
   "execution_count": null,
   "id": "silent-asian",
   "metadata": {},
   "outputs": [],
   "source": [
    "test_ptb"
   ]
  },
  {
   "cell_type": "code",
   "execution_count": null,
   "id": "roman-mobile",
   "metadata": {},
   "outputs": [],
   "source": [
    "test_ptb.shape"
   ]
  },
  {
   "cell_type": "code",
   "execution_count": null,
   "id": "loving-spokesman",
   "metadata": {},
   "outputs": [],
   "source": [
    "test_ptb[187].value_counts()"
   ]
  },
  {
   "cell_type": "code",
   "execution_count": null,
   "id": "registered-frost",
   "metadata": {},
   "outputs": [],
   "source": [
    "sns.catplot(x = 187, kind = 'count', data = test_ptb)\n",
    "\n",
    "plt.xlabel(\"Siniflar\")\n",
    "plt.ylabel(\"Örnek sayısı\")\n",
    "plt.title(\"her sınıf için örnek sayıs\")"
   ]
  },
  {
   "cell_type": "code",
   "execution_count": null,
   "id": "centered-peace",
   "metadata": {},
   "outputs": [],
   "source": [
    "per_class = train_ptb[187].value_counts()\n",
    "plt.figure(figsize=(20,10))\n",
    "my_circle=plt.Circle( (0,0), 0.8, color='white')\n",
    "plt.pie(per_class, labels=['Normal Beat','Unknown Beats','Ventricular Ectopic Beats','Supraventricular Ectopic Beats','Fusion Beats'], colors=['tab:green','tab:orange','tab:purple','tab:blue','tab:red'],autopct='%1.1f%%')\n",
    "p=plt.gcf()\n",
    "p.gca().add_artist(my_circle)\n",
    "plt.show()"
   ]
  },
  {
   "cell_type": "code",
   "execution_count": null,
   "id": "modern-finder",
   "metadata": {},
   "outputs": [],
   "source": [
    "sns.set_style('whitegrid')\n",
    "plt.figure(figsize = (20,8))\n",
    "plt.plot(train_ptb.iloc[500, 0:187], color = 'red')\n",
    "plt.title(\"ECG Normal  Beats\", fontsize = 16)\n",
    "plt.show()"
   ]
  },
  {
   "cell_type": "code",
   "execution_count": null,
   "id": "polished-chicago",
   "metadata": {},
   "outputs": [],
   "source": [
    "from sklearn.utils import resample\n",
    "df_1=train_ptb[train_ptb[187]==1]\n",
    "df_2=train_ptb[train_ptb[187]==2]\n",
    "df_3=train_ptb[train_ptb[187]==3]\n",
    "df_4=train_ptb[train_ptb[187]==4]\n",
    "df_0=(train_ptb[train_ptb[187]==0]).sample(n=20000,random_state=42)"
   ]
  },
  {
   "cell_type": "code",
   "execution_count": null,
   "id": "matched-complaint",
   "metadata": {},
   "outputs": [],
   "source": [
    "sns.set_style(\"whitegrid\")\n",
    "plt.figure(figsize=(20,8))\n",
    "plt.plot(df_0.iloc[0, 0:187], color = 'red', label = 'Normal Heart Beats')\n",
    "plt.plot(df_3.iloc[0, 0:187], color = 'blue', label = 'Supraventricular ectopic beats')\n",
    "plt.title(\"ECG Normal ve Supraventricular Ectopic Beats\", fontsize = 16)\n",
    "plt.xlabel(\"Zaman (ile ms)\")\n",
    "plt.ylabel(\"Kalp Atışı Genliği\")\n",
    "plt.legend()\n",
    "plt.show()"
   ]
  },
  {
   "cell_type": "code",
   "execution_count": null,
   "id": "reasonable-redhead",
   "metadata": {},
   "outputs": [],
   "source": [
    "df_1=resample(df_1,replace=True,n_samples=20000,random_state=123)\n",
    "df_2=resample(df_2,replace=True,n_samples=20000,random_state=124)\n",
    "df_3=resample(df_3,replace=True,n_samples=20000,random_state=125)\n",
    "df_4=resample(df_4,replace=True,n_samples=20000,random_state=126)\n",
    "\n",
    "train_df=pd.concat([df_0,df_1,df_2,df_3,df_4])\n",
    "\n",
    "per_class = train_df[187].value_counts()\n",
    "plt.figure(figsize=(20,10))\n",
    "my_circle=plt.Circle( (0,0), 0.8, color='white')\n",
    "plt.pie(per_class, labels=['Normal Beat','Unknown Beats','Ventricular Ectopic Beats','Supraventricular Ectopic Beats','Fusion Beats'], colors=['tab:red','tab:orange','tab:purple','tab:blue','tab:green'],autopct='%1.1f%%')\n",
    "p=plt.gcf()\n",
    "p.gca().add_artist(my_circle)\n",
    "plt.show()"
   ]
  },
  {
   "cell_type": "code",
   "execution_count": null,
   "id": "amino-logic",
   "metadata": {},
   "outputs": [],
   "source": [
    "sns.catplot(x = 187, kind = 'count', data = train_df)\n",
    "\n",
    "plt.xlabel(\"Siniflar\")\n",
    "plt.ylabel(\"Örnek sayısı\")\n",
    "plt.title(\"her sınıf için örnek sayıs\")"
   ]
  },
  {
   "cell_type": "code",
   "execution_count": null,
   "id": "sweet-shift",
   "metadata": {},
   "outputs": [],
   "source": [
    "classes_0=df_0\n",
    "classes_0"
   ]
  },
  {
   "cell_type": "code",
   "execution_count": null,
   "id": "deluxe-burton",
   "metadata": {},
   "outputs": [],
   "source": [
    "sns.set_style('whitegrid')\n",
    "plt.figure(figsize = (20,8))\n",
    "plt.plot(classes_0.iloc[500, 0:187], color = 'red')\n",
    "plt.title('normal beat',fontsize = 16)\n",
    "plt.show()"
   ]
  },
  {
   "cell_type": "code",
   "execution_count": null,
   "id": "deluxe-safety",
   "metadata": {},
   "outputs": [],
   "source": [
    "classes_1=df_1\n",
    "classes_1"
   ]
  },
  {
   "cell_type": "code",
   "execution_count": null,
   "id": "tested-suite",
   "metadata": {},
   "outputs": [],
   "source": [
    "sns.set_style('whitegrid')\n",
    "plt.figure(figsize = (20,8))\n",
    "plt.plot(classes_1.iloc[500, 0:187], color = 'red')\n",
    "plt.title('unknown Beat',fontsize = 16)\n",
    "plt.show()"
   ]
  },
  {
   "cell_type": "code",
   "execution_count": null,
   "id": "present-family",
   "metadata": {},
   "outputs": [],
   "source": [
    "classes_2=df_2\n",
    "classes_2"
   ]
  },
  {
   "cell_type": "code",
   "execution_count": null,
   "id": "minus-ambassador",
   "metadata": {},
   "outputs": [],
   "source": [
    "sns.set_style('whitegrid')\n",
    "plt.figure(figsize = (20,8))\n",
    "plt.plot(classes_2.iloc[500, 0:187], color = 'red')\n",
    "plt.title('Ventricular ectopic beat',fontsize = 16)\n",
    "plt.show()"
   ]
  },
  {
   "cell_type": "code",
   "execution_count": null,
   "id": "wooden-blame",
   "metadata": {},
   "outputs": [],
   "source": [
    "classes_3=df_3\n",
    "classes_3"
   ]
  },
  {
   "cell_type": "code",
   "execution_count": null,
   "id": "referenced-render",
   "metadata": {},
   "outputs": [],
   "source": [
    "sns.set_style('whitegrid')\n",
    "plt.figure(figsize = (20,8))\n",
    "plt.plot(classes_3.iloc[500, 0:187], color = 'red')\n",
    "plt.title('Supraventricular ectopic beat',fontsize = 16)\n",
    "plt.show()"
   ]
  },
  {
   "cell_type": "code",
   "execution_count": null,
   "id": "ordinary-three",
   "metadata": {},
   "outputs": [],
   "source": [
    "classes_4=df_4\n",
    "classes_4"
   ]
  },
  {
   "cell_type": "code",
   "execution_count": null,
   "id": "initial-recorder",
   "metadata": {},
   "outputs": [],
   "source": [
    "sns.set_style('whitegrid')\n",
    "plt.figure(figsize = (20,8))\n",
    "plt.plot(classes_4.iloc[500, 0:187], color = 'red')\n",
    "plt.title('Fusion Beat',fontsize = 16)\n",
    "plt.show()"
   ]
  },
  {
   "cell_type": "code",
   "execution_count": null,
   "id": "protective-vegetable",
   "metadata": {},
   "outputs": [],
   "source": [
    "classes=train_df.groupby(187,group_keys=False).apply(lambda train_df : train_df.sample(1))\n",
    "classes"
   ]
  },
  {
   "cell_type": "code",
   "execution_count": null,
   "id": "accepted-patrick",
   "metadata": {},
   "outputs": [],
   "source": [
    "plt.figure(figsize=(16,8))\n",
    "\n",
    "plt.subplot(2, 3, 1)  \n",
    "plt.plot(classes.iloc[0,:186])\n",
    "plt.title('normal beat')\n",
    "\n",
    "plt.subplot(2, 3, 2)  \n",
    "plt.plot(classes.iloc[1,:186])\n",
    "plt.title('unknown Beat')\n",
    "\n",
    "plt.subplot(2, 3, 3)  \n",
    "plt.plot(classes.iloc[2,:186])\n",
    "plt.title('Ventricular ectopic beat')\n",
    "\n",
    "plt.subplot(2, 3, 4)  \n",
    "plt.plot(classes.iloc[3,:186])\n",
    "plt.title('Supraventricular ectopic beat')\n",
    "\n",
    "plt.subplot(2, 3, 5)  \n",
    "plt.plot(classes.iloc[4,:186])\n",
    "plt.title('Fusion Beat')\n",
    "\n",
    "plt.show()"
   ]
  },
  {
   "cell_type": "code",
   "execution_count": null,
   "id": "scheduled-metro",
   "metadata": {},
   "outputs": [],
   "source": [
    "def plot_hist(class_number,size,min_):\n",
    "    \n",
    "    img=train_df.loc[train_df[187]==class_number].values\n",
    "   \n",
    "    img=img[:,min_:size]\n",
    "    \n",
    "    img_flatten=img.flatten()\n",
    "    \n",
    "    final1=np.arange(min_,size)\n",
    "    for i in range (img.shape[0]-1):\n",
    "        tempo1=np.arange(min_,size)\n",
    "        final1=np.concatenate((final1, tempo1), axis=None)\n",
    "    print(len(final1))\n",
    "    print(len(img_flatten))\n",
    "    plt.hist2d(final1,img_flatten, bins=(80,80),cmap=plt.cm.jet)\n",
    "    plt.show()"
   ]
  },
  {
   "cell_type": "code",
   "execution_count": null,
   "id": "settled-silence",
   "metadata": {},
   "outputs": [],
   "source": [
    "plt.figure(figsize=(12,4))\n",
    "plt.subplot(1, 2, 1)  \n",
    "plt.plot(classes.iloc[0,:186])\n",
    "plt.title('Normal beat', fontsize = 14)\n",
    "plt.subplot(1, 2, 2)  \n",
    "plot_hist(0,70,5)"
   ]
  },
  {
   "cell_type": "code",
   "execution_count": null,
   "id": "cardiovascular-archive",
   "metadata": {},
   "outputs": [],
   "source": [
    "plt.figure(figsize=(12,4))\n",
    "plt.subplot(1, 2, 1)\n",
    "plt.plot(classes.iloc[1,:186])\n",
    "plt.title('unknown Beat', fontsize = 14)\n",
    "plt.subplot(1, 2, 2)  \n",
    "plot_hist(1,50,5)"
   ]
  },
  {
   "cell_type": "code",
   "execution_count": null,
   "id": "atmospheric-likelihood",
   "metadata": {},
   "outputs": [],
   "source": [
    "plt.figure(figsize=(12,4))\n",
    "plt.subplot(1, 2, 1)  \n",
    "plt.plot(classes.iloc[2,:186])\n",
    "plt.title('Ventricular ectopic beat', fontsize = 14)\n",
    "plt.subplot(1, 2, 2) \n",
    "plot_hist(2,60,30)"
   ]
  },
  {
   "cell_type": "code",
   "execution_count": null,
   "id": "literary-height",
   "metadata": {},
   "outputs": [],
   "source": [
    "plt.figure(figsize=(12,4))\n",
    "plt.subplot(1, 2, 1) \n",
    "plt.plot(classes.iloc[3,:186])\n",
    "plt.title('Supraventricular ectopic beat', fontsize = 14)\n",
    "plt.subplot(1, 2, 2) \n",
    "plot_hist(3,60,25)"
   ]
  },
  {
   "cell_type": "code",
   "execution_count": null,
   "id": "fabulous-thickness",
   "metadata": {},
   "outputs": [],
   "source": [
    "plt.figure(figsize=(12,4))\n",
    "plt.subplot(1, 2, 1)   \n",
    "plt.plot(classes.iloc[4,:186])\n",
    "plt.title('Fusion Beat', fontsize = 14)\n",
    "plt.subplot(1, 2, 2) \n",
    "plot_hist(4,50,18)"
   ]
  },
  {
   "cell_type": "code",
   "execution_count": null,
   "id": "excited-damages",
   "metadata": {},
   "outputs": [],
   "source": [
    "from keras.utils import to_categorical\n",
    "from sklearn.utils import shuffle\n",
    "from keras import layers\n",
    "from keras.layers import Input, Dense, Dropout, Activation, ZeroPadding2D, BatchNormalization, Flatten, Conv2D, Embedding, Add\n",
    "from keras.layers import Conv1D, GlobalAveragePooling1D, AveragePooling2D, MaxPooling2D, MaxPool1D, ZeroPadding1D, GlobalMaxPooling2D, GlobalAveragePooling2D, LSTM, SpatialDropout1D\n",
    "from keras.models import Sequential, Model\n",
    "from keras.preprocessing import image\n",
    "from keras.utils import plot_model\n",
    "from keras.applications.inception_v3 import InceptionV3\n",
    "from keras.layers.merge import concatenate\n",
    "from keras.layers import Dense \n",
    "from keras.layers import Conv1D, MaxPooling1D, Flatten\n",
    "from keras.optimizers import Adam\n",
    "\n",
    "\n",
    "from keras.layers.normalization import BatchNormalization"
   ]
  },
  {
   "cell_type": "code",
   "execution_count": null,
   "id": "psychological-mechanics",
   "metadata": {},
   "outputs": [],
   "source": [
    "target_train = train_df[187]\n",
    "target_test = test_ptb[187]"
   ]
  },
  {
   "cell_type": "code",
   "execution_count": null,
   "id": "helpful-northern",
   "metadata": {},
   "outputs": [],
   "source": [
    "from keras.utils.np_utils import to_categorical\n",
    "y_train = to_categorical(target_train)"
   ]
  },
  {
   "cell_type": "code",
   "execution_count": null,
   "id": "julian-coast",
   "metadata": {},
   "outputs": [],
   "source": [
    "y_test = to_categorical(target_test)"
   ]
  },
  {
   "cell_type": "code",
   "execution_count": null,
   "id": "dated-honor",
   "metadata": {},
   "outputs": [],
   "source": [
    "X_train = train_df.iloc[:, :-1].values\n",
    "X_test = test_ptb.iloc[:, :-1].values"
   ]
  },
  {
   "cell_type": "code",
   "execution_count": null,
   "id": "acute-afghanistan",
   "metadata": {},
   "outputs": [],
   "source": [
    "X_train.shape"
   ]
  },
  {
   "cell_type": "code",
   "execution_count": null,
   "id": "engaged-sensitivity",
   "metadata": {},
   "outputs": [],
   "source": [
    "X_train = X_train.reshape(len(X_train),X_train.shape[1],1)\n",
    "X_test = X_test.reshape(len(X_test),X_test.shape[1],1)"
   ]
  },
  {
   "cell_type": "code",
   "execution_count": null,
   "id": "blessed-saskatchewan",
   "metadata": {},
   "outputs": [],
   "source": [
    "X_train.shape"
   ]
  },
  {
   "cell_type": "code",
   "execution_count": null,
   "id": "pleasant-seating",
   "metadata": {},
   "outputs": [],
   "source": [
    "def build_model():\n",
    "    model = Sequential()\n",
    "    \n",
    "    model.add(Conv1D(filters = 64, kernel_size = 6, activation='relu', padding = 'same', input_shape = (187, 1))) \n",
    "    \n",
    "    model.add(BatchNormalization())\n",
    "  \n",
    "    model.add(MaxPooling1D(pool_size=(3), strides = (2), padding = 'same'))\n",
    "\n",
    "    model.add(Conv1D(filters = 64, kernel_size = 6, activation='relu', padding = 'same'))\n",
    "    model.add(BatchNormalization())\n",
    "    model.add(MaxPooling1D(pool_size=(3), strides = (2), padding = 'same'))\n",
    "\n",
    "    model.add(Conv1D( filters = 64, kernel_size = 6, activation='relu', padding = 'same'))\n",
    "    model.add(BatchNormalization())\n",
    "    model.add(MaxPooling1D(pool_size=(3), strides = (2), padding = 'same'))\n",
    "\n",
    "    model.add(Flatten())\n",
    "\n",
    "    model.add(Dense(units = 64, activation='relu'))\n",
    "    \n",
    "    model.add(Dense(units = 64, activation='relu'))\n",
    "    \n",
    "    model.add(Dense(units = 5, activation='softmax'))\n",
    "\n",
    " \n",
    "    return mode"
   ]
  },
  {
   "cell_type": "code",
   "execution_count": null,
   "id": "valid-thesaurus",
   "metadata": {},
   "outputs": [],
   "source": [
    "model = build_model()"
   ]
  },
  {
   "cell_type": "code",
   "execution_count": null,
   "id": "blessed-looking",
   "metadata": {},
   "outputs": [],
   "source": [
    "model.summary()"
   ]
  },
  {
   "cell_type": "code",
   "execution_count": null,
   "id": "express-hands",
   "metadata": {},
   "outputs": [],
   "source": [
    "plot_model(model)"
   ]
  },
  {
   "cell_type": "code",
   "execution_count": null,
   "id": "christian-offering",
   "metadata": {},
   "outputs": [],
   "source": [
    "model.compile(optimizer = 'Adam', loss = 'categorical_crossentropy', metrics = ['accuracy'])"
   ]
  },
  {
   "cell_type": "code",
   "execution_count": null,
   "id": "mexican-parent",
   "metadata": {},
   "outputs": [],
   "source": [
    "model_history = model.fit(X_train, y_train, epochs = 10, batch_size = 32, validation_data=(X_test, y_test))"
   ]
  },
  {
   "cell_type": "code",
   "execution_count": null,
   "id": "essential-onion",
   "metadata": {},
   "outputs": [],
   "source": [
    "val_loss,val_accuracy=model.evaluate(X_test, y_test)"
   ]
  },
  {
   "cell_type": "code",
   "execution_count": null,
   "id": "fatty-dragon",
   "metadata": {},
   "outputs": [],
   "source": [
    "print(\"val_accuracy : \" , val_accuracy  )"
   ]
  },
  {
   "cell_type": "code",
   "execution_count": null,
   "id": "adequate-heather",
   "metadata": {},
   "outputs": [],
   "source": [
    "val_loss,val_accuracy=model.evaluate(X_train, y_train)"
   ]
  },
  {
   "cell_type": "code",
   "execution_count": null,
   "id": "undefined-junction",
   "metadata": {},
   "outputs": [],
   "source": [
    "print(\"val_accuracy : \" , val_accuracy  )"
   ]
  },
  {
   "cell_type": "code",
   "execution_count": null,
   "id": "electoral-laser",
   "metadata": {},
   "outputs": [],
   "source": [
    "plt.plot(model_history.history['accuracy'])\n",
    "plt.plot(model_history.history['val_accuracy'])\n",
    "plt.legend([\"accuracy\",\"val_accuracy\"])\n",
    "plt.xlabel('Epoch')\n",
    "plt.ylabel('Accuracy')"
   ]
  },
  {
   "cell_type": "code",
   "execution_count": null,
   "id": "ultimate-working",
   "metadata": {},
   "outputs": [],
   "source": [
    "plt.plot(model_history.history['loss'])\n",
    "plt.plot(model_history.history['val_loss'])\n",
    "plt.legend([\"loss\",\"val_loss\"])\n",
    "plt.xlabel('Epoch')\n",
    "plt.ylabel('Loss')"
   ]
  },
  {
   "cell_type": "code",
   "execution_count": null,
   "id": "indoor-practice",
   "metadata": {},
   "outputs": [],
   "source": [
    "from sklearn.metrics import classification_report, confusion_matrix\n",
    "\n",
    "y_true=[]\n",
    "for element in y_test:\n",
    "    y_true.append(np.argmax(element))\n",
    "prediction_proba=model.predict(X_test)\n",
    "prediction=np.argmax(prediction_proba,axis=1)\n",
    "model_matrix = confusion_matrix(y_true, prediction)\n",
    "sns.heatmap(confusion_matrix(np.argmax(y_test, axis =1), prediction), annot=True,fmt='0.0f', cmap='Blues',xticklabels= ['N', 'S', 'V', 'F', 'Q'], yticklabels=['N', 'S', 'V', 'F', 'Q'])\n",
    "plt.ylabel('Actual')\n",
    "plt.xlabel('Predicted')\n",
    "plt.show(block=False)"
   ]
  },
  {
   "cell_type": "code",
   "execution_count": null,
   "id": "painful-mainstream",
   "metadata": {},
   "outputs": [],
   "source": [
    "y_true=[]\n",
    "for element in y_test:\n",
    "    y_true.append(np.argmax(element))\n",
    "prediction_proba=model.predict(X_test)\n",
    "prediction=np.argmax(prediction_proba,axis=1)\n",
    "model_matrix = confusion_matrix(y_true, prediction)\n",
    "sns.heatmap(model_matrix/np.sum(model_matrix), annot=True,fmt='.2%', cmap='Blues',xticklabels= ['N', 'S', 'V', 'F', 'Q'], yticklabels=['N', 'S', 'V', 'F', 'Q'])\n",
    "plt.ylabel('Actual')\n",
    "plt.xlabel('Predicted')\n",
    "plt.show(block=False)"
   ]
  },
  {
   "cell_type": "code",
   "execution_count": null,
   "id": "signed-healing",
   "metadata": {},
   "outputs": [],
   "source": [
    "FP = model_matrix.sum(axis=0) - np.diag(model_matrix)  \n",
    "FN = model_matrix.sum(axis=1) - np.diag(model_matrix)\n",
    "TP = np.diag(model_matrix)\n",
    "TN = model_matrix.sum() - (FP + FN + TP)\n",
    "\n",
    "# Sensitivity\n",
    "TPR = TP/(TP+FN)\n",
    "\n",
    "# Specificity \n",
    "TNR = TN/(TN+FP) \n",
    "# Precision\n",
    "PPV = TP/(TP+FP)\n",
    "#Score(F1)\n",
    "F1=(2*(PPV*TPR))/(PPV+TPR)\n",
    "# Overall accuracy\n",
    "ACC = (TP+TN)/(TP+FP+FN+TN)\n",
    "\n",
    "print(\"Sensitivity(SEN) :\"  , TPR)\n",
    "print(\"Specificity (SPE) :\"  , TNR)\n",
    "print(\"Precision(PRE) :\"  , PPV)\n",
    "print(\"Overall accuracy(ACC) :\"  , ACC)\n",
    "print(\"Score(F1)\" , F1)"
   ]
  },
  {
   "cell_type": "code",
   "execution_count": null,
   "id": "prescribed-northeast",
   "metadata": {},
   "outputs": [],
   "source": [
    "print(classification_report(np.argmax(y_test, axis=1), prediction))"
   ]
  },
  {
   "cell_type": "code",
   "execution_count": null,
   "id": "thousand-captain",
   "metadata": {},
   "outputs": [],
   "source": [
    "from sklearn.metrics import confusion_matrix, accuracy_score\n",
    "print(\"Accuracy score of the predictions: {0}\".format(accuracy_score(y_true, prediction)))"
   ]
  },
  {
   "cell_type": "code",
   "execution_count": null,
   "id": "chubby-creator",
   "metadata": {},
   "outputs": [],
   "source": []
  },
  {
   "cell_type": "code",
   "execution_count": null,
   "id": "terminal-syndication",
   "metadata": {},
   "outputs": [],
   "source": []
  },
  {
   "cell_type": "code",
   "execution_count": null,
   "id": "regulated-valley",
   "metadata": {},
   "outputs": [],
   "source": []
  }
 ],
 "metadata": {
  "kernelspec": {
   "display_name": "Python 3",
   "language": "python",
   "name": "python3"
  },
  "language_info": {
   "codemirror_mode": {
    "name": "ipython",
    "version": 3
   },
   "file_extension": ".py",
   "mimetype": "text/x-python",
   "name": "python",
   "nbconvert_exporter": "python",
   "pygments_lexer": "ipython3",
   "version": "3.8.5"
  }
 },
 "nbformat": 4,
 "nbformat_minor": 5
}
